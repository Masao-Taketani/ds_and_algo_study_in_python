{
 "cells": [
  {
   "cell_type": "code",
   "execution_count": 4,
   "metadata": {},
   "outputs": [],
   "source": [
    "import sys\n",
    "\n",
    "def check_gengou(year):\n",
    "    if year < 1869 or 2020 < year:\n",
    "        print(\"1986年から2020の間で入力してください。\")\n",
    "        sys.exit()\n",
    "    else:\n",
    "        m = 1868\n",
    "        t = 1912\n",
    "        s = 1926\n",
    "        h = 1989\n",
    "        r = 2019\n",
    "        if year < t:\n",
    "            return \"明治\" + str(year - (m - 1)) + \"年\"\n",
    "        elif year < s:\n",
    "            return \"大正\" + str(year - (t - 1)) + \"年\"\n",
    "        elif year < h:\n",
    "            return \"昭和\" + str(year - (s - 1)) + \"年\"\n",
    "        elif year < r:\n",
    "            return \"平成\" + str(year - (h - 1)) + \"年\"\n",
    "        else:\n",
    "            return \"令和\" + str(year - (r - 1)) + \"年\""
   ]
  },
  {
   "cell_type": "code",
   "execution_count": 8,
   "metadata": {},
   "outputs": [
    {
     "data": {
      "text/plain": [
       "'平成12年'"
      ]
     },
     "execution_count": 8,
     "metadata": {},
     "output_type": "execute_result"
    }
   ],
   "source": [
    "check_gengou(2000)"
   ]
  },
  {
   "cell_type": "code",
   "execution_count": null,
   "metadata": {},
   "outputs": [],
   "source": []
  }
 ],
 "metadata": {
  "kernelspec": {
   "display_name": "Python 3",
   "language": "python",
   "name": "python3"
  },
  "language_info": {
   "codemirror_mode": {
    "name": "ipython",
    "version": 3
   },
   "file_extension": ".py",
   "mimetype": "text/x-python",
   "name": "python",
   "nbconvert_exporter": "python",
   "pygments_lexer": "ipython3",
   "version": "3.7.6"
  }
 },
 "nbformat": 4,
 "nbformat_minor": 4
}
