{
 "cells": [
  {
   "cell_type": "markdown",
   "metadata": {},
   "source": [
    "# 6.2"
   ]
  },
  {
   "cell_type": "code",
   "execution_count": 3,
   "metadata": {},
   "outputs": [],
   "source": [
    "# (1) (n is the max index of A)\n",
    "def push(A, top, x):\n",
    "    if top == n: raise Exception(\"ERROR: The stack overflows\")\n",
    "    top += 1\n",
    "    A[top] = x\n",
    "\n",
    "# (2)\n",
    "def pop(A, top):\n",
    "    if top == 0: raise Exception(\"ERROR: The stack is empty\")\n",
    "    val = A[top]\n",
    "    top -= 1\n",
    "    return val"
   ]
  },
  {
   "cell_type": "markdown",
   "metadata": {},
   "source": [
    "# 6.3"
   ]
  },
  {
   "cell_type": "code",
   "execution_count": 5,
   "metadata": {},
   "outputs": [],
   "source": [
    "# (1) (n is the max index of A)\n",
    "def insert(A, head, tail, x):\n",
    "    if tail == n: raise Exception(\"ERROR: The queue overflows\")\n",
    "    tail += 1\n",
    "    A[tail] = x\n",
    "\n",
    "# (2)\n",
    "def get(A, head, tail):\n",
    "    if head == tail: raise Exception(\"ERROR: The queue is empty\")\n",
    "    val = A[head]\n",
    "    head += 1\n",
    "    return val"
   ]
  },
  {
   "cell_type": "code",
   "execution_count": null,
   "metadata": {},
   "outputs": [],
   "source": []
  }
 ],
 "metadata": {
  "kernelspec": {
   "display_name": "Python 3",
   "language": "python",
   "name": "python3"
  },
  "language_info": {
   "codemirror_mode": {
    "name": "ipython",
    "version": 3
   },
   "file_extension": ".py",
   "mimetype": "text/x-python",
   "name": "python",
   "nbconvert_exporter": "python",
   "pygments_lexer": "ipython3",
   "version": "3.7.7"
  }
 },
 "nbformat": 4,
 "nbformat_minor": 4
}
