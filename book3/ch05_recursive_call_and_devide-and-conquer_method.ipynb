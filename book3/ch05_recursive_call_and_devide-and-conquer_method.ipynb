{
 "cells": [
  {
   "cell_type": "code",
   "execution_count": 1,
   "metadata": {},
   "outputs": [],
   "source": [
    "import math"
   ]
  },
  {
   "cell_type": "markdown",
   "metadata": {},
   "source": [
    "# 5.4"
   ]
  },
  {
   "cell_type": "code",
   "execution_count": 2,
   "metadata": {},
   "outputs": [],
   "source": [
    "# (1)\n",
    "def prob1(n):\n",
    "    if n == 1:\n",
    "        return 1\n",
    "    elif n == 2:\n",
    "        return 2\n",
    "    elif n >= 3:\n",
    "        return n * prob1(n-1) * prob1(n-2)\n",
    "    \n",
    "# (2)\n",
    "def prob2(n):\n",
    "    if n == 1:\n",
    "        return 1\n",
    "    elif n == 2:\n",
    "        return 5\n",
    "    elif n >= 3:\n",
    "        return n * prob2(math.floor(n/2)) * prob2(math.floor(n/2)+1)\n",
    "    \n",
    "# (3)\n",
    "def prob3(n):\n",
    "    if n == 1:\n",
    "        return 1\n",
    "    elif n == 2:\n",
    "        return 2\n",
    "    elif n == 3:\n",
    "        return 3\n",
    "    elif n >= 3:\n",
    "        return prob2(math.floor(n/2)) * prob2(math.floor(n/2)+1) * prob2(math.floor(n/2)+2)"
   ]
  },
  {
   "cell_type": "markdown",
   "metadata": {},
   "source": [
    "# 5.5"
   ]
  },
  {
   "cell_type": "code",
   "execution_count": null,
   "metadata": {},
   "outputs": [],
   "source": [
    "def print_all_descendants(vertex):\n",
    "    x = first_child(vertex)\n",
    "    while x is not None:\n",
    "        print(x)\n",
    "        print_all_descendants(x)\n",
    "        x = next_brother(x)"
   ]
  }
 ],
 "metadata": {
  "kernelspec": {
   "display_name": "Python 3",
   "language": "python",
   "name": "python3"
  },
  "language_info": {
   "codemirror_mode": {
    "name": "ipython",
    "version": 3
   },
   "file_extension": ".py",
   "mimetype": "text/x-python",
   "name": "python",
   "nbconvert_exporter": "python",
   "pygments_lexer": "ipython3",
   "version": "3.7.7"
  }
 },
 "nbformat": 4,
 "nbformat_minor": 4
}
