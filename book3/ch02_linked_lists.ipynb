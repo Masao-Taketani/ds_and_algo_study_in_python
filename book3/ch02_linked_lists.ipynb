{
 "cells": [
  {
   "cell_type": "markdown",
   "metadata": {},
   "source": [
    "# 2.3"
   ]
  },
  {
   "cell_type": "markdown",
   "metadata": {},
   "source": [
    "**pseudocode**\n",
    "```\n",
    "x <- parent[v]\n",
    "while x is not None:\n",
    "    print(x)\n",
    "    x <- parent[x]\n",
    "```"
   ]
  },
  {
   "cell_type": "markdown",
   "metadata": {},
   "source": [
    "# 2.4"
   ]
  },
  {
   "cell_type": "markdown",
   "metadata": {},
   "source": [
    "**pseudocode**\n",
    "```\n",
    "x <- firstChild[v]\n",
    "while x is not None:\n",
    "    y <- firstChild[x]\n",
    "    while y is not None:\n",
    "        print(y)\n",
    "        y <- nextBrother[y]\n",
    "    x <- nextBrother\n",
    "```"
   ]
  },
  {
   "cell_type": "markdown",
   "metadata": {},
   "source": [
    "# 2.5"
   ]
  },
  {
   "cell_type": "markdown",
   "metadata": {},
   "source": [
    "**pseudocode**\n",
    "```\n",
    "x <- firstChild[v]\n",
    "firstChild[v] <- w\n",
    "    parent[w] <- v\n",
    "    nextBrother[w] <- x\n",
    "```"
   ]
  },
  {
   "cell_type": "markdown",
   "metadata": {},
   "source": [
    "# 2.6"
   ]
  },
  {
   "cell_type": "markdown",
   "metadata": {},
   "source": [
    "**pseudocode**\n",
    "```\n",
    "x <- firstChild[v]\n",
    "if x is None:\n",
    "    return None\n",
    "else:\n",
    "    while nextBrother[x] is not None:\n",
    "        x <- nextBrother[x]\n",
    "    return x\n",
    "```"
   ]
  },
  {
   "cell_type": "markdown",
   "metadata": {},
   "source": [
    "# 2.7"
   ]
  },
  {
   "cell_type": "markdown",
   "metadata": {},
   "source": [
    "**pseudocode**\n",
    "```\n",
    "x <- firstChild[v]\n",
    "firstchild[v] <- nextBrother[x]\n",
    "```"
   ]
  }
 ],
 "metadata": {
  "kernelspec": {
   "display_name": "Python 3",
   "language": "python",
   "name": "python3"
  },
  "language_info": {
   "codemirror_mode": {
    "name": "ipython",
    "version": 3
   },
   "file_extension": ".py",
   "mimetype": "text/x-python",
   "name": "python",
   "nbconvert_exporter": "python",
   "pygments_lexer": "ipython3",
   "version": "3.7.7"
  }
 },
 "nbformat": 4,
 "nbformat_minor": 4
}
