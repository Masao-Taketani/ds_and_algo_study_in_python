{
 "cells": [
  {
   "cell_type": "markdown",
   "metadata": {},
   "source": [
    "# 3.6"
   ]
  },
  {
   "cell_type": "markdown",
   "metadata": {},
   "source": [
    "**pseudocode**\n",
    "```\n",
    "while A[⌊k/2⌋] < A[k] and k >= 1:\n",
    "    tmp <- A[⌊k/2⌋]\n",
    "    A[⌊k/2⌋] <- A[k]\n",
    "    A[k] <- tmp\n",
    "    k <- ⌊k/2⌋\n",
    "```"
   ]
  },
  {
   "cell_type": "markdown",
   "metadata": {},
   "source": [
    "# 3.7"
   ]
  },
  {
   "cell_type": "markdown",
   "metadata": {},
   "source": [
    "**pseudocode**\n",
    "```\n",
    "def swap(parent, child):\n",
    "    tmp <- parent\n",
    "    parent <- child\n",
    "    child <- tmp   \n",
    "n = 1\n",
    "while (A[n] < A[2n] or A[n] < A[2n+1]) and n < k+1:\n",
    "    if A[k] < A[2k]:\n",
    "        swap(A[n], A[2n])\n",
    "        n <- 2n\n",
    "    else:\n",
    "        swap(A[n], A[2n+1])\n",
    "        n <- 2n+1\n",
    "```"
   ]
  }
 ],
 "metadata": {
  "kernelspec": {
   "display_name": "Python 3",
   "language": "python",
   "name": "python3"
  },
  "language_info": {
   "codemirror_mode": {
    "name": "ipython",
    "version": 3
   },
   "file_extension": ".py",
   "mimetype": "text/x-python",
   "name": "python",
   "nbconvert_exporter": "python",
   "pygments_lexer": "ipython3",
   "version": "3.7.7"
  }
 },
 "nbformat": 4,
 "nbformat_minor": 4
}
