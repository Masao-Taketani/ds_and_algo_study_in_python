{
 "cells": [
  {
   "cell_type": "markdown",
   "metadata": {},
   "source": [
    "# Basic Singly Linked List"
   ]
  },
  {
   "cell_type": "code",
   "execution_count": 1,
   "metadata": {},
   "outputs": [],
   "source": [
    "class Node:\n",
    "    def __init__(self, val):\n",
    "        self.val = val\n",
    "        self.next = None\n",
    "        \n",
    "class SinglyLinkedList:\n",
    "    def __init__(self):\n",
    "        self.head = None\n",
    "        \n",
    "    def append_to_tail(self, val):\n",
    "        end = Node(val)\n",
    "        if self.head is None:\n",
    "            self.head = end\n",
    "            print(\"head_first:\", self.head)\n",
    "            return\n",
    "        else:\n",
    "            head = self.head\n",
    "            print(\"head_1:\", head)\n",
    "            while head.next is not None:\n",
    "                head = head.next\n",
    "                print(\"head_2:\", head)\n",
    "            head.next = end\n",
    "            print(\"head_end\", head.next)"
   ]
  },
  {
   "cell_type": "markdown",
   "metadata": {},
   "source": [
    "# Test"
   ]
  },
  {
   "cell_type": "code",
   "execution_count": 2,
   "metadata": {},
   "outputs": [
    {
     "name": "stdout",
     "output_type": "stream",
     "text": [
      "None\n"
     ]
    }
   ],
   "source": [
    "sllist = SinglyLinkedList()\n",
    "print(sllist.head)"
   ]
  },
  {
   "cell_type": "code",
   "execution_count": 3,
   "metadata": {},
   "outputs": [
    {
     "name": "stdout",
     "output_type": "stream",
     "text": [
      "head_first: <__main__.Node object at 0x000001D5E1CD8048>\n",
      "4\n"
     ]
    }
   ],
   "source": [
    "sllist.append_to_tail(4)\n",
    "print(sllist.head.val)"
   ]
  },
  {
   "cell_type": "code",
   "execution_count": 4,
   "metadata": {},
   "outputs": [
    {
     "name": "stdout",
     "output_type": "stream",
     "text": [
      "head_1: <__main__.Node object at 0x000001D5E1CD8048>\n",
      "head_end <__main__.Node object at 0x000001D5E1CE40C8>\n"
     ]
    }
   ],
   "source": [
    "sllist.append_to_tail(7)"
   ]
  },
  {
   "cell_type": "code",
   "execution_count": 5,
   "metadata": {},
   "outputs": [
    {
     "name": "stdout",
     "output_type": "stream",
     "text": [
      "head_1: <__main__.Node object at 0x000001D5E1CD8048>\n",
      "head_2: <__main__.Node object at 0x000001D5E1CE40C8>\n",
      "head_end <__main__.Node object at 0x000001D5E1CE4908>\n"
     ]
    }
   ],
   "source": [
    "sllist.append_to_tail(0)"
   ]
  },
  {
   "cell_type": "code",
   "execution_count": 6,
   "metadata": {},
   "outputs": [
    {
     "name": "stdout",
     "output_type": "stream",
     "text": [
      "4\n",
      "7\n",
      "0\n"
     ]
    }
   ],
   "source": [
    "print(sllist.head.val)\n",
    "print(sllist.head.next.val)\n",
    "print(sllist.head.next.next.val)"
   ]
  },
  {
   "cell_type": "markdown",
   "metadata": {},
   "source": [
    "# Deleting a Node from a Singly Linked List"
   ]
  },
  {
   "cell_type": "code",
   "execution_count": 7,
   "metadata": {},
   "outputs": [],
   "source": [
    "def delete_node(head, val):\n",
    "    h = head\n",
    "    \n",
    "    if h.val == val:\n",
    "        return head.next\n",
    "    \n",
    "    while h.next is not None:\n",
    "        if h.next.val == val:\n",
    "            h.next = h.next.next\n",
    "            break\n",
    "        h = h.next\n",
    "        \n",
    "    return head"
   ]
  },
  {
   "cell_type": "markdown",
   "metadata": {},
   "source": [
    "# Test"
   ]
  },
  {
   "cell_type": "code",
   "execution_count": 8,
   "metadata": {},
   "outputs": [
    {
     "data": {
      "text/plain": [
       "<__main__.Node at 0x1d5e1cd8048>"
      ]
     },
     "execution_count": 8,
     "metadata": {},
     "output_type": "execute_result"
    }
   ],
   "source": [
    "delete_node(sllist.head, 7)"
   ]
  },
  {
   "cell_type": "code",
   "execution_count": 9,
   "metadata": {},
   "outputs": [
    {
     "name": "stdout",
     "output_type": "stream",
     "text": [
      "4\n",
      "0\n"
     ]
    }
   ],
   "source": [
    "print(sllist.head.val)\n",
    "print(sllist.head.next.val)"
   ]
  },
  {
   "cell_type": "markdown",
   "metadata": {},
   "source": [
    "# 2.1 Remove Dups"
   ]
  },
  {
   "cell_type": "code",
   "execution_count": null,
   "metadata": {},
   "outputs": [],
   "source": []
  }
 ],
 "metadata": {
  "kernelspec": {
   "display_name": "Python 3",
   "language": "python",
   "name": "python3"
  },
  "language_info": {
   "codemirror_mode": {
    "name": "ipython",
    "version": 3
   },
   "file_extension": ".py",
   "mimetype": "text/x-python",
   "name": "python",
   "nbconvert_exporter": "python",
   "pygments_lexer": "ipython3",
   "version": "3.7.6"
  }
 },
 "nbformat": 4,
 "nbformat_minor": 4
}
