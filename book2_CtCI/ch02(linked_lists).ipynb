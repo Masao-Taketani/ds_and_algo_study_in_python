{
 "cells": [
  {
   "cell_type": "markdown",
   "metadata": {},
   "source": [
    "# Basic Singly Linked List"
   ]
  },
  {
   "cell_type": "code",
   "execution_count": 1,
   "metadata": {},
   "outputs": [],
   "source": [
    "class Node:\n",
    "    def __init__(self, val):\n",
    "        self.val = val\n",
    "        self.next = None\n",
    "        \n",
    "class SinglyLinkedList:\n",
    "    def __init__(self):\n",
    "        self.head = None\n",
    "        \n",
    "    def append_to_tail(self, val):\n",
    "        end = Node(val)\n",
    "        if self.head is None:\n",
    "            self.head = end\n",
    "            #print(\"head_first:\", self.head)\n",
    "            return\n",
    "        else:\n",
    "            head = self.head\n",
    "            #print(\"head_1:\", head)\n",
    "            while head.next is not None:\n",
    "                head = head.next\n",
    "                #print(\"head_2:\", head)\n",
    "            head.next = end\n",
    "            #print(\"head_end\", head.next)\n",
    "            \n",
    "    def __len__(self):\n",
    "        length = 0\n",
    "        head = self.head\n",
    "        while head:\n",
    "            length += 1\n",
    "            head = head.next\n",
    "        return length"
   ]
  },
  {
   "cell_type": "markdown",
   "metadata": {},
   "source": [
    "# Test"
   ]
  },
  {
   "cell_type": "code",
   "execution_count": 2,
   "metadata": {},
   "outputs": [],
   "source": [
    "sllist = SinglyLinkedList()\n",
    "print(sllist.head)"
   ]
  },
  {
   "cell_type": "code",
   "execution_count": 3,
   "metadata": {},
   "outputs": [],
   "source": [
    "sllist.append_to_tail(4)\n",
    "print(sllist.head.val)"
   ]
  },
  {
   "cell_type": "code",
   "execution_count": 4,
   "metadata": {},
   "outputs": [],
   "source": [
    "sllist.append_to_tail(7)"
   ]
  },
  {
   "cell_type": "code",
   "execution_count": 5,
   "metadata": {},
   "outputs": [],
   "source": [
    "sllist.append_to_tail(0)"
   ]
  },
  {
   "cell_type": "code",
   "execution_count": 6,
   "metadata": {},
   "outputs": [
    {
     "name": "stdout",
     "output_type": "stream",
     "text": [
      "4\n",
      "7\n",
      "0\n"
     ]
    }
   ],
   "source": [
    "print(sllist.head.val)\n",
    "print(sllist.head.next.val)\n",
    "print(sllist.head.next.next.val)"
   ]
  },
  {
   "cell_type": "markdown",
   "metadata": {},
   "source": [
    "# Deleting a Node from a Singly Linked List"
   ]
  },
  {
   "cell_type": "code",
   "execution_count": 7,
   "metadata": {},
   "outputs": [],
   "source": [
    "def delete_node(head, val):\n",
    "    h = head\n",
    "    \n",
    "    if h.val == val:\n",
    "        return head.next\n",
    "    \n",
    "    while h.next is not None:\n",
    "        if h.next.val == val:\n",
    "            h.next = h.next.next\n",
    "            break\n",
    "        h = h.next\n",
    "        \n",
    "    return head"
   ]
  },
  {
   "cell_type": "markdown",
   "metadata": {},
   "source": [
    "# Test 1"
   ]
  },
  {
   "cell_type": "code",
   "execution_count": 8,
   "metadata": {},
   "outputs": [
    {
     "data": {
      "text/plain": [
       "<__main__.Node at 0x1b7cfdb6e88>"
      ]
     },
     "execution_count": 8,
     "metadata": {},
     "output_type": "execute_result"
    }
   ],
   "source": [
    "delete_node(sllist.head, 7)"
   ]
  },
  {
   "cell_type": "code",
   "execution_count": 9,
   "metadata": {},
   "outputs": [
    {
     "name": "stdout",
     "output_type": "stream",
     "text": [
      "4\n",
      "0\n"
     ]
    }
   ],
   "source": [
    "print(sllist.head.val)\n",
    "print(sllist.head.next.val)"
   ]
  },
  {
   "cell_type": "markdown",
   "metadata": {},
   "source": [
    "# 2.1 Remove Dups"
   ]
  },
  {
   "cell_type": "code",
   "execution_count": 10,
   "metadata": {},
   "outputs": [],
   "source": [
    "def remove_dups(llist):\n",
    "    val_dict = {}\n",
    "    head = llist.head\n",
    "    if head is None:\n",
    "        return\n",
    "    else:\n",
    "        val_dict[head.val] = 1\n",
    "    while head.next is not None:\n",
    "        if head.next.val in val_dict:\n",
    "            head.next = head.next.next\n",
    "        else:\n",
    "            val_dict[head.next.val] = 1\n",
    "            head = head.next\n",
    "        \n",
    "    return llist"
   ]
  },
  {
   "cell_type": "markdown",
   "metadata": {},
   "source": [
    "**time O(n)<br>\n",
    "space O(n)**"
   ]
  },
  {
   "cell_type": "markdown",
   "metadata": {},
   "source": [
    "## Test"
   ]
  },
  {
   "cell_type": "code",
   "execution_count": 11,
   "metadata": {},
   "outputs": [
    {
     "name": "stdout",
     "output_type": "stream",
     "text": [
      "1\n",
      "2\n",
      "3\n"
     ]
    }
   ],
   "source": [
    "llist = SinglyLinkedList()\n",
    "llist.append_to_tail(1)\n",
    "llist.append_to_tail(2)\n",
    "llist.append_to_tail(3)\n",
    "remove_dups(llist)\n",
    "print(llist.head.val)\n",
    "print(llist.head.next.val)\n",
    "print(llist.head.next.next.val)"
   ]
  },
  {
   "cell_type": "code",
   "execution_count": 12,
   "metadata": {},
   "outputs": [
    {
     "name": "stdout",
     "output_type": "stream",
     "text": [
      "1\n",
      "3\n",
      "4\n"
     ]
    }
   ],
   "source": [
    "llist = SinglyLinkedList()\n",
    "llist.append_to_tail(1)\n",
    "llist.append_to_tail(3)\n",
    "llist.append_to_tail(3)\n",
    "llist.append_to_tail(4)\n",
    "remove_dups(llist)\n",
    "print(llist.head.val)\n",
    "print(llist.head.next.val)\n",
    "print(llist.head.next.next.val)"
   ]
  },
  {
   "cell_type": "code",
   "execution_count": 13,
   "metadata": {},
   "outputs": [
    {
     "name": "stdout",
     "output_type": "stream",
     "text": [
      "1\n",
      "3\n",
      "4\n"
     ]
    }
   ],
   "source": [
    "llist = SinglyLinkedList()\n",
    "llist.append_to_tail(1)\n",
    "llist.append_to_tail(3)\n",
    "llist.append_to_tail(3)\n",
    "llist.append_to_tail(3)\n",
    "llist.append_to_tail(4)\n",
    "remove_dups(llist)\n",
    "print(llist.head.val)\n",
    "print(llist.head.next.val)\n",
    "print(llist.head.next.next.val)"
   ]
  },
  {
   "cell_type": "markdown",
   "metadata": {},
   "source": [
    "## Follow Up"
   ]
  },
  {
   "cell_type": "code",
   "execution_count": 14,
   "metadata": {},
   "outputs": [],
   "source": [
    "def remove_dups_with_no_buffer(llist):\n",
    "    current = llist.head\n",
    "    while current is not None:\n",
    "        runner = current\n",
    "        while runner.next is not None:\n",
    "            if runner.next.val == current.val:\n",
    "                runner.next = runner.next.next\n",
    "            else:\n",
    "                runner = runner.next\n",
    "        current = current.next\n",
    "        \n",
    "    return llist"
   ]
  },
  {
   "cell_type": "code",
   "execution_count": 15,
   "metadata": {},
   "outputs": [
    {
     "name": "stdout",
     "output_type": "stream",
     "text": [
      "1\n",
      "2\n",
      "3\n"
     ]
    }
   ],
   "source": [
    "llist = SinglyLinkedList()\n",
    "llist.append_to_tail(1)\n",
    "llist.append_to_tail(2)\n",
    "llist.append_to_tail(3)\n",
    "remove_dups_with_no_buffer(llist)\n",
    "print(llist.head.val)\n",
    "print(llist.head.next.val)\n",
    "print(llist.head.next.next.val)"
   ]
  },
  {
   "cell_type": "code",
   "execution_count": 16,
   "metadata": {},
   "outputs": [
    {
     "name": "stdout",
     "output_type": "stream",
     "text": [
      "1\n",
      "3\n",
      "4\n"
     ]
    }
   ],
   "source": [
    "llist = SinglyLinkedList()\n",
    "llist.append_to_tail(1)\n",
    "llist.append_to_tail(3)\n",
    "llist.append_to_tail(3)\n",
    "llist.append_to_tail(4)\n",
    "remove_dups(llist)\n",
    "print(llist.head.val)\n",
    "print(llist.head.next.val)\n",
    "print(llist.head.next.next.val)"
   ]
  },
  {
   "cell_type": "code",
   "execution_count": 17,
   "metadata": {},
   "outputs": [
    {
     "name": "stdout",
     "output_type": "stream",
     "text": [
      "1\n",
      "3\n",
      "4\n"
     ]
    }
   ],
   "source": [
    "llist = SinglyLinkedList()\n",
    "llist.append_to_tail(1)\n",
    "llist.append_to_tail(3)\n",
    "llist.append_to_tail(3)\n",
    "llist.append_to_tail(3)\n",
    "llist.append_to_tail(4)\n",
    "remove_dups(llist)\n",
    "print(llist.head.val)\n",
    "print(llist.head.next.val)\n",
    "print(llist.head.next.next.val)"
   ]
  },
  {
   "cell_type": "markdown",
   "metadata": {},
   "source": [
    "# 2.2 Return Kth to Last"
   ]
  },
  {
   "cell_type": "code",
   "execution_count": 18,
   "metadata": {},
   "outputs": [],
   "source": [
    "def return_kth_to_last(llist, k):\n",
    "    runner = current = llist.head\n",
    "    \n",
    "    for i in range(k):\n",
    "        if runner is None:\n",
    "            return None\n",
    "        else:\n",
    "            runner = runner.next\n",
    "            \n",
    "    while runner is not None:\n",
    "        runner = runner.next\n",
    "        current = current.next\n",
    "        \n",
    "    return current"
   ]
  },
  {
   "cell_type": "markdown",
   "metadata": {},
   "source": [
    "**time O(n)<br>\n",
    "space O(1)**"
   ]
  },
  {
   "cell_type": "markdown",
   "metadata": {},
   "source": [
    "## Test"
   ]
  },
  {
   "cell_type": "code",
   "execution_count": 19,
   "metadata": {},
   "outputs": [
    {
     "name": "stdout",
     "output_type": "stream",
     "text": [
      "7\n"
     ]
    }
   ],
   "source": [
    "llist = SinglyLinkedList()\n",
    "for i in range(10):\n",
    "    llist.append_to_tail(i)\n",
    "ans = return_kth_to_last(llist, 3)\n",
    "print(ans.val)"
   ]
  },
  {
   "cell_type": "code",
   "execution_count": 20,
   "metadata": {},
   "outputs": [
    {
     "name": "stdout",
     "output_type": "stream",
     "text": [
      "40\n"
     ]
    }
   ],
   "source": [
    "llist = SinglyLinkedList()\n",
    "for i in range(50):\n",
    "    llist.append_to_tail(i)\n",
    "ans = return_kth_to_last(llist, 10)\n",
    "print(ans.val)"
   ]
  },
  {
   "cell_type": "markdown",
   "metadata": {},
   "source": [
    "# 2.3 Delete Middle Node(※need to check about pointer for linked lists)"
   ]
  },
  {
   "cell_type": "code",
   "execution_count": 21,
   "metadata": {},
   "outputs": [],
   "source": [
    "def delete_middle_node(node):\n",
    "    node.val = node.next.val\n",
    "    node.next = node.next.next"
   ]
  },
  {
   "cell_type": "markdown",
   "metadata": {},
   "source": [
    "**time O(n)<br>\n",
    "space O(1)**"
   ]
  },
  {
   "cell_type": "markdown",
   "metadata": {},
   "source": [
    "## Test"
   ]
  },
  {
   "cell_type": "code",
   "execution_count": 22,
   "metadata": {},
   "outputs": [
    {
     "name": "stdout",
     "output_type": "stream",
     "text": [
      "1\n",
      "3\n"
     ]
    }
   ],
   "source": [
    "llist = SinglyLinkedList()\n",
    "llist.append_to_tail(1)\n",
    "llist.append_to_tail(2)\n",
    "llist.append_to_tail(3)\n",
    "delete_middle_node(llist.head.next)\n",
    "print(llist.head.val)\n",
    "print(llist.head.next.val)"
   ]
  },
  {
   "cell_type": "markdown",
   "metadata": {},
   "source": [
    "# 2.4 is skipped"
   ]
  },
  {
   "cell_type": "markdown",
   "metadata": {},
   "source": [
    "# 2.5 Sum Lists"
   ]
  },
  {
   "cell_type": "code",
   "execution_count": 23,
   "metadata": {},
   "outputs": [],
   "source": [
    "def calculate_sum_of_llists(l1, l2):\n",
    "    carry = 0\n",
    "    reversed_digits = \"\"\n",
    "    l1_node = l1.head\n",
    "    l2_node = l2.head\n",
    "    while l1_node or l2_node:\n",
    "        tmp_d = 0\n",
    "        tmp_d += carry\n",
    "        if l1_node:\n",
    "            tmp_d += l1_node.val\n",
    "            l1_node = l1_node.next\n",
    "        if l2_node:\n",
    "            tmp_d += l2_node.val\n",
    "            l2_node = l2_node.next\n",
    "        carry = tmp_d // 10\n",
    "        tmp_d %= 10\n",
    "        reversed_digits += str(tmp_d)\n",
    "        \n",
    "    if carry:\n",
    "        reversed_digits += str(carry)\n",
    "        \n",
    "    return int(reversed_digits[::-1])\n",
    "\n",
    "\n",
    "def calculate_sum_of_llists_follow_up(l1, l2):\n",
    "    str_1, str_2 = \"\", \"\"\n",
    "    node_1, node_2 = l1.head, l2.head\n",
    "    while node_1 or node_2:\n",
    "        if node_1:\n",
    "            str_1 += str(node_1.val)\n",
    "            node_1 = node_1.next\n",
    "        if node_2:\n",
    "            str_2 += str(node_2.val)\n",
    "            node_2 = node_2.next\n",
    "        \n",
    "    return int(str_1) + int(str_2)"
   ]
  },
  {
   "cell_type": "markdown",
   "metadata": {},
   "source": [
    "## Test"
   ]
  },
  {
   "cell_type": "code",
   "execution_count": 24,
   "metadata": {},
   "outputs": [
    {
     "name": "stdout",
     "output_type": "stream",
     "text": [
      "912\n"
     ]
    }
   ],
   "source": [
    "llist1 = SinglyLinkedList()\n",
    "llist1.append_to_tail(7)\n",
    "llist1.append_to_tail(1)\n",
    "llist1.append_to_tail(6)\n",
    "\n",
    "llist2 = SinglyLinkedList()\n",
    "llist2.append_to_tail(5)\n",
    "llist2.append_to_tail(9)\n",
    "llist2.append_to_tail(2)\n",
    "\n",
    "print(calculate_sum_of_llists(llist1, llist2))"
   ]
  },
  {
   "cell_type": "code",
   "execution_count": 25,
   "metadata": {},
   "outputs": [
    {
     "name": "stdout",
     "output_type": "stream",
     "text": [
      "1801\n"
     ]
    }
   ],
   "source": [
    "llist1 = SinglyLinkedList()\n",
    "llist1.append_to_tail(4)\n",
    "llist1.append_to_tail(3)\n",
    "llist1.append_to_tail(2)\n",
    "llist1.append_to_tail(1)\n",
    "\n",
    "llist2 = SinglyLinkedList()\n",
    "llist2.append_to_tail(7)\n",
    "llist2.append_to_tail(6)\n",
    "llist2.append_to_tail(5)\n",
    "\n",
    "print(calculate_sum_of_llists(llist1, llist2))"
   ]
  },
  {
   "cell_type": "code",
   "execution_count": 26,
   "metadata": {},
   "outputs": [
    {
     "name": "stdout",
     "output_type": "stream",
     "text": [
      "912\n"
     ]
    }
   ],
   "source": [
    "llist1 = SinglyLinkedList()\n",
    "llist1.append_to_tail(6)\n",
    "llist1.append_to_tail(1)\n",
    "llist1.append_to_tail(7)\n",
    "\n",
    "llist2 = SinglyLinkedList()\n",
    "llist2.append_to_tail(2)\n",
    "llist2.append_to_tail(9)\n",
    "llist2.append_to_tail(5)\n",
    "\n",
    "print(calculate_sum_of_llists_follow_up(llist1, llist2))"
   ]
  },
  {
   "cell_type": "code",
   "execution_count": 27,
   "metadata": {},
   "outputs": [
    {
     "name": "stdout",
     "output_type": "stream",
     "text": [
      "1801\n"
     ]
    }
   ],
   "source": [
    "llist1 = SinglyLinkedList()\n",
    "llist1.append_to_tail(1)\n",
    "llist1.append_to_tail(2)\n",
    "llist1.append_to_tail(3)\n",
    "llist1.append_to_tail(4)\n",
    "\n",
    "llist2 = SinglyLinkedList()\n",
    "llist2.append_to_tail(5)\n",
    "llist2.append_to_tail(6)\n",
    "llist2.append_to_tail(7)\n",
    "\n",
    "print(calculate_sum_of_llists_follow_up(llist1, llist2))"
   ]
  },
  {
   "cell_type": "markdown",
   "metadata": {},
   "source": [
    "# 2.6 Palindrome"
   ]
  },
  {
   "cell_type": "code",
   "execution_count": null,
   "metadata": {},
   "outputs": [],
   "source": []
  }
 ],
 "metadata": {
  "kernelspec": {
   "display_name": "Python 3",
   "language": "python",
   "name": "python3"
  },
  "language_info": {
   "codemirror_mode": {
    "name": "ipython",
    "version": 3
   },
   "file_extension": ".py",
   "mimetype": "text/x-python",
   "name": "python",
   "nbconvert_exporter": "python",
   "pygments_lexer": "ipython3",
   "version": "3.7.7"
  }
 },
 "nbformat": 4,
 "nbformat_minor": 4
}
