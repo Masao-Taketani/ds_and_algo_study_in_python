{
 "cells": [
  {
   "cell_type": "markdown",
   "metadata": {},
   "source": [
    "# Pre-defined Classes"
   ]
  },
  {
   "cell_type": "code",
   "execution_count": 2,
   "metadata": {},
   "outputs": [],
   "source": [
    "class Node:\n",
    "    def __init__(self, val):\n",
    "        self.val = val\n",
    "        self.next = None\n",
    "\n",
    "        \n",
    "class LinkedList:\n",
    "    def __init__(self, head):\n",
    "        self.head = head\n",
    "        \n",
    "    def __len__(self):\n",
    "        ct = 0\n",
    "        head = self.head\n",
    "        while head is not None:\n",
    "            ct += 1\n",
    "            head = head.next\n",
    "        return ct\n",
    "\n",
    "        \n",
    "class Stack:\n",
    "    def __init__(self, llist):\n",
    "        self.data = llist\n",
    "        \n",
    "    def push(self, val):\n",
    "        head = Node(val)\n",
    "        head.next = self.data.head\n",
    "        self.data.head = head\n",
    "    \n",
    "    def pop(self):\n",
    "        if len(self.data) == 0:\n",
    "            print(\"Empty\")\n",
    "        else:\n",
    "            self.data.head = self.data.next\n",
    "            \n",
    "    def peek(self):\n",
    "        if len(self.data) == 0:\n",
    "            print(\"Empty\")\n",
    "        else:\n",
    "            print(self.data.val)\n",
    "            \n",
    "    def is_empty(self):\n",
    "        return self.data.head is None\n",
    "    \n",
    "    \n",
    "class Queue:\n",
    "    def __init__(self, llist):\n",
    "        self.data = llist\n",
    "        \n",
    "    def enqueue(self, val):\n",
    "        enq_node = Node(val)\n",
    "        head = self.data.head\n",
    "        while head.next is not None:\n",
    "            head = head.next\n",
    "        head.next = enq_node\n",
    "        \n",
    "    def dequeue(self):\n",
    "        self.data.head = self.data.head.next\n",
    "        \n",
    "    def peek(self):\n",
    "        print(self.data.head.val)\n",
    "        \n",
    "    def is_empty(self):\n",
    "        return self.data.head is None"
   ]
  },
  {
   "cell_type": "markdown",
   "metadata": {},
   "source": [
    "# 3.1 Three in One"
   ]
  },
  {
   "cell_type": "code",
   "execution_count": null,
   "metadata": {},
   "outputs": [],
   "source": [
    "l = []"
   ]
  }
 ],
 "metadata": {
  "kernelspec": {
   "display_name": "Python 3",
   "language": "python",
   "name": "python3"
  },
  "language_info": {
   "codemirror_mode": {
    "name": "ipython",
    "version": 3
   },
   "file_extension": ".py",
   "mimetype": "text/x-python",
   "name": "python",
   "nbconvert_exporter": "python",
   "pygments_lexer": "ipython3",
   "version": "3.7.7"
  }
 },
 "nbformat": 4,
 "nbformat_minor": 4
}
