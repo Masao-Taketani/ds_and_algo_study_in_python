{
 "cells": [
  {
   "cell_type": "markdown",
   "metadata": {},
   "source": [
    "# Pre-defined Classes"
   ]
  },
  {
   "cell_type": "code",
   "execution_count": 1,
   "metadata": {},
   "outputs": [],
   "source": [
    "class Node:\n",
    "    def __init__(self, val):\n",
    "        self.val = val\n",
    "        self.next = None\n",
    "\n",
    "        \n",
    "class LinkedList:\n",
    "    def __init__(self, head):\n",
    "        self.head = head\n",
    "        \n",
    "    def __len__(self):\n",
    "        ct = 0\n",
    "        head = self.head\n",
    "        while head is not None:\n",
    "            ct += 1\n",
    "            head = head.next\n",
    "        return ct\n",
    "\n",
    "        \n",
    "class Stack:\n",
    "    def __init__(self, llist):\n",
    "        self.data = llist\n",
    "        \n",
    "    def push(self, val):\n",
    "        head = Node(val)\n",
    "        head.next = self.data.head\n",
    "        self.data.head = head\n",
    "    \n",
    "    def pop(self):\n",
    "        if len(self.data) == 0:\n",
    "            print(\"Empty\")\n",
    "        else:\n",
    "            self.data.head = self.data.next\n",
    "            \n",
    "    def peek(self):\n",
    "        if len(self.data) == 0:\n",
    "            print(\"Empty\")\n",
    "        else:\n",
    "            print(self.data.val)\n",
    "            \n",
    "    def is_empty(self):\n",
    "        return self.data.head is None\n",
    "    \n",
    "    \n",
    "class Queue:\n",
    "    def __init__(self, llist):\n",
    "        self.data = llist\n",
    "        \n",
    "    def enqueue(self, val):\n",
    "        enq_node = Node(val)\n",
    "        head = self.data.head\n",
    "        while head.next is not None:\n",
    "            head = head.next\n",
    "        head.next = enq_node\n",
    "        \n",
    "    def dequeue(self):\n",
    "        self.data.head = self.data.head.next\n",
    "        \n",
    "    def peek(self):\n",
    "        print(self.data.head.val)\n",
    "        \n",
    "    def is_empty(self):\n",
    "        return self.data.head is None"
   ]
  },
  {
   "cell_type": "markdown",
   "metadata": {},
   "source": [
    "# 3.1 Three in One"
   ]
  },
  {
   "cell_type": "code",
   "execution_count": 28,
   "metadata": {},
   "outputs": [],
   "source": [
    "class FixedMultiStack:\n",
    "    \n",
    "    def __init__(self, stack_size):\n",
    "        self.stack_num = 3\n",
    "        self.stack_size = stack_size\n",
    "        self.vals = [0] * (self.stack_num * self.stack_size)\n",
    "        self.sizes_of_stacks = [0] * self.stack_num\n",
    "        \n",
    "    def push(self, stack_num, val):\n",
    "        if self.is_full(stack_num):\n",
    "            return print(\"The given stack is full.\")\n",
    "        self.sizes_of_stacks[stack_num] += 1\n",
    "        self.vals[self.index_of_top(stack_num)] = val\n",
    "        \n",
    "    def pop(self, stack_num):\n",
    "        if self.is_empty(stack_num):\n",
    "            return print(\"The given stack is empty.\")\n",
    "        val = self.vals[self.index_of_top(stack_num)]\n",
    "        self.vals[self.index_of_top(stack_num)] = 0\n",
    "        self.sizes_of_stacks[stack_num] -= 1\n",
    "        return print(val)\n",
    "    \n",
    "    def peek(self, stack_num):\n",
    "        if self.is_empty(stack_num):\n",
    "            return print(\"The given stack is empty.\")\n",
    "        val = self.vals[self.index_of_top(stack_num)]\n",
    "        return print(val)\n",
    "    \n",
    "    def index_of_top(self, stack_num):\n",
    "        offset = self.stack_size * stack_num\n",
    "        # -1: since the index starts from 0 \n",
    "        return offset + self.sizes_of_stacks[stack_num] - 1\n",
    "        \n",
    "    def is_full(self, stack_num):\n",
    "        if self.sizes_of_stacks[stack_num] == self.stack_size:\n",
    "            return True\n",
    "        else:\n",
    "            return False\n",
    "        \n",
    "    def is_empty(self, stack_num):\n",
    "        if self.sizes_of_stacks[stack_num] == 0:\n",
    "            return True\n",
    "        else:\n",
    "            return False"
   ]
  },
  {
   "cell_type": "markdown",
   "metadata": {},
   "source": [
    "## Test"
   ]
  },
  {
   "cell_type": "code",
   "execution_count": 29,
   "metadata": {},
   "outputs": [
    {
     "name": "stdout",
     "output_type": "stream",
     "text": [
      "The given stack is full.\n",
      "[0, 0, 4, 5, 0, 0]\n",
      "5\n",
      "[0, 0, 4, 0, 0, 0]\n",
      "4\n",
      "4\n",
      "The given stack is empty.\n"
     ]
    }
   ],
   "source": [
    "test_stack = FixedMultiStack(2)\n",
    "test_stack.push(1, 4)\n",
    "test_stack.push(1, 5)\n",
    "test_stack.push(1, 6)\n",
    "\n",
    "print(test_stack.vals)\n",
    "\n",
    "test_stack.pop(1)\n",
    "print(test_stack.vals)\n",
    "test_stack.peek(1)\n",
    "test_stack.pop(1)\n",
    "test_stack.pop(1)"
   ]
  },
  {
   "cell_type": "markdown",
   "metadata": {},
   "source": [
    "# 3.2 Stack Min"
   ]
  },
  {
   "cell_type": "code",
   "execution_count": null,
   "metadata": {},
   "outputs": [],
   "source": []
  }
 ],
 "metadata": {
  "kernelspec": {
   "display_name": "Python 3",
   "language": "python",
   "name": "python3"
  },
  "language_info": {
   "codemirror_mode": {
    "name": "ipython",
    "version": 3
   },
   "file_extension": ".py",
   "mimetype": "text/x-python",
   "name": "python",
   "nbconvert_exporter": "python",
   "pygments_lexer": "ipython3",
   "version": "3.7.7"
  }
 },
 "nbformat": 4,
 "nbformat_minor": 4
}
