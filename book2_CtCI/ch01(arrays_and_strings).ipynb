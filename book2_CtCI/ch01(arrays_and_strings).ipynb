{
 "cells": [
  {
   "cell_type": "code",
   "execution_count": 1,
   "metadata": {},
   "outputs": [],
   "source": [
    "import utils"
   ]
  },
  {
   "cell_type": "markdown",
   "metadata": {},
   "source": [
    "# 1.1 Is Unique"
   ]
  },
  {
   "cell_type": "code",
   "execution_count": 2,
   "metadata": {},
   "outputs": [],
   "source": [
    "def is_unique(string):\n",
    "    char_dict = {}\n",
    "    \n",
    "    for s in string:\n",
    "        if s in char_dict:\n",
    "            return False\n",
    "        else:\n",
    "            char_dict[s] = 1\n",
    "    \n",
    "    return True"
   ]
  },
  {
   "cell_type": "markdown",
   "metadata": {},
   "source": [
    "**time: O(n)<br>\n",
    "space: O(n)**"
   ]
  },
  {
   "cell_type": "code",
   "execution_count": 3,
   "metadata": {},
   "outputs": [],
   "source": [
    "true_cases = [\"\", \"1q./\", \"fotg\"]\n",
    "false_cases = [\"ii\", \"fopbola329\", \"4igj54\"]"
   ]
  },
  {
   "cell_type": "code",
   "execution_count": 4,
   "metadata": {},
   "outputs": [
    {
     "name": "stdout",
     "output_type": "stream",
     "text": [
      "passed the tests.\n",
      "passed the tests.\n"
     ]
    }
   ],
   "source": [
    "utils.check_all_true_cases(is_unique, true_cases)\n",
    "utils.check_all_false_cases(is_unique, false_cases)"
   ]
  },
  {
   "cell_type": "markdown",
   "metadata": {},
   "source": [
    "## Answer"
   ]
  },
  {
   "cell_type": "markdown",
   "metadata": {},
   "source": [
    "**time: O(n)<br>\n",
    "space: O(1)**"
   ]
  },
  {
   "cell_type": "code",
   "execution_count": 5,
   "metadata": {},
   "outputs": [],
   "source": [
    "def is_unique_ans(string):\n",
    "    # if we assume ASCII string is only used\n",
    "    char_set = [False for _ in range(128)]\n",
    "    \n",
    "    for s in string:\n",
    "        \"\"\"\n",
    "        ord(): \n",
    "        Given a string representing one Unicode character, \n",
    "        return an integer representing the Unicode code point \n",
    "        of that character.\n",
    "        \"\"\"\n",
    "        asc_int = ord(s)\n",
    "        if char_set[asc_int]:\n",
    "            return False\n",
    "        char_set[asc_int] = True\n",
    "    \n",
    "    return True"
   ]
  },
  {
   "cell_type": "code",
   "execution_count": 6,
   "metadata": {},
   "outputs": [
    {
     "name": "stdout",
     "output_type": "stream",
     "text": [
      "passed the tests.\n",
      "passed the tests.\n"
     ]
    }
   ],
   "source": [
    "utils.check_all_true_cases(is_unique_ans, true_cases)\n",
    "utils.check_all_false_cases(is_unique_ans, false_cases)"
   ]
  },
  {
   "cell_type": "markdown",
   "metadata": {},
   "source": [
    "# 1.2 Check Permutation"
   ]
  },
  {
   "cell_type": "code",
   "execution_count": 7,
   "metadata": {},
   "outputs": [],
   "source": [
    "def check_permutation(s1, s2):\n",
    "    s_dict = {}\n",
    "    \n",
    "    if len(s1) != len(s2):\n",
    "        return False\n",
    "    \n",
    "    for s in s1:\n",
    "        if not s in s_dict:\n",
    "            s_dict[s] = 1\n",
    "        else:\n",
    "            s_dict[s] += 1\n",
    "    \n",
    "    for s in s2:\n",
    "        if not s in s_dict:\n",
    "            return False\n",
    "        elif s_dict[s] == 0:\n",
    "            return False\n",
    "        s_dict[s] -= 1\n",
    "        \n",
    "    return True"
   ]
  },
  {
   "cell_type": "markdown",
   "metadata": {},
   "source": [
    "**time: O(n)<br>\n",
    "space: O(n)**"
   ]
  },
  {
   "cell_type": "code",
   "execution_count": 8,
   "metadata": {},
   "outputs": [],
   "source": [
    "true_cases = [(\"abc\", \"bca\"), (\"14zw5\", \"z541w\"), (\"a\", \"a\")]\n",
    "false_cases = [(\"ajifnc\", \"a\"), (\"abc\", \"acc\"), (\"z245497ffj\", \"z245497ffz\")]"
   ]
  },
  {
   "cell_type": "code",
   "execution_count": 9,
   "metadata": {},
   "outputs": [
    {
     "name": "stdout",
     "output_type": "stream",
     "text": [
      "passed the tests.\n",
      "passed the tests.\n"
     ]
    }
   ],
   "source": [
    "utils.check_all_true_cases(check_permutation, true_cases)\n",
    "utils.check_all_false_cases(check_permutation, false_cases)"
   ]
  },
  {
   "cell_type": "markdown",
   "metadata": {},
   "source": [
    "# 1.3 URLify"
   ]
  },
  {
   "cell_type": "code",
   "execution_count": 10,
   "metadata": {},
   "outputs": [],
   "source": [
    "def urlify(string, length):\n",
    "    new_str = \"\"\n",
    "    for i, s in enumerate(string):\n",
    "        if i == length:\n",
    "            break\n",
    "        if s is \" \":\n",
    "            new_str += \"%20\"\n",
    "        else:\n",
    "            new_str += s\n",
    "            \n",
    "    return new_str"
   ]
  },
  {
   "cell_type": "markdown",
   "metadata": {},
   "source": [
    "**time: O(n)<br>\n",
    "space: O(n)**"
   ]
  },
  {
   "cell_type": "code",
   "execution_count": 11,
   "metadata": {},
   "outputs": [],
   "source": [
    "test_cases = [((\"Mr John Smith    \", 13), \"Mr%20John%20Smith\"), \n",
    "              ((\"te st_?  \", 7), \"te%20st_?\"),\n",
    "              ((\"test\", 4), \"test\")]"
   ]
  },
  {
   "cell_type": "code",
   "execution_count": 12,
   "metadata": {},
   "outputs": [
    {
     "name": "stdout",
     "output_type": "stream",
     "text": [
      "passed the tests.\n"
     ]
    }
   ],
   "source": [
    "for inp, ans in test_cases:\n",
    "    actual = urlify(*inp)\n",
    "    if actual != ans:\n",
    "        \"An error occurred for case {}\".format(inp[0])\n",
    "utils.print_success()"
   ]
  },
  {
   "cell_type": "code",
   "execution_count": 13,
   "metadata": {},
   "outputs": [
    {
     "name": "stdout",
     "output_type": "stream",
     "text": [
      "passed the tests.\n"
     ]
    }
   ],
   "source": [
    "utils.check_all_equal_cases(urlify, test_cases)"
   ]
  },
  {
   "cell_type": "markdown",
   "metadata": {},
   "source": [
    "## Answer"
   ]
  },
  {
   "cell_type": "code",
   "execution_count": 14,
   "metadata": {},
   "outputs": [],
   "source": [
    "def urlify_ans(string, length):\n",
    "    index = len(string)\n",
    "    if length == len(string): return string\n",
    "    for i in reversed(range(length)):\n",
    "        if string[i] == \" \":\n",
    "            string[index-3:index] = \"%20\"\n",
    "            index = index - 3\n",
    "        else:\n",
    "            string[index-1] = string[i]\n",
    "            index -= 1\n",
    "            \n",
    "    return string"
   ]
  },
  {
   "cell_type": "markdown",
   "metadata": {},
   "source": [
    "**time: O(n)<br>\n",
    "space: O(1)**"
   ]
  },
  {
   "cell_type": "code",
   "execution_count": 15,
   "metadata": {},
   "outputs": [
    {
     "name": "stdout",
     "output_type": "stream",
     "text": [
      "passed the tests.\n"
     ]
    }
   ],
   "source": [
    "for inp, ans in test_cases:\n",
    "    actual = urlify(*inp)\n",
    "    if actual != ans:\n",
    "        \"An error occurred for case {}\".format(inp[0])\n",
    "utils.print_success()"
   ]
  },
  {
   "cell_type": "code",
   "execution_count": 16,
   "metadata": {},
   "outputs": [
    {
     "name": "stdout",
     "output_type": "stream",
     "text": [
      "passed the tests.\n"
     ]
    }
   ],
   "source": [
    "utils.check_all_equal_cases(urlify, test_cases)"
   ]
  },
  {
   "cell_type": "markdown",
   "metadata": {},
   "source": [
    "# 1.4 Palindrome Permutation"
   ]
  },
  {
   "cell_type": "code",
   "execution_count": 17,
   "metadata": {},
   "outputs": [],
   "source": [
    "def is_palindrome_permutation(string):\n",
    "    length = 0\n",
    "    char_dict = {}\n",
    "    for s in string.lower():\n",
    "        if s == \" \":\n",
    "            continue\n",
    "        length += 1\n",
    "        if not s in char_dict:\n",
    "            char_dict[s] = 1\n",
    "        else:\n",
    "            char_dict[s] += 1\n",
    "    \n",
    "    if length % 2 == 0:\n",
    "        for _, v in char_dict.items():\n",
    "            if not v % 2 == 0:\n",
    "                return False\n",
    "        return True\n",
    "    else:\n",
    "        one_count = 0\n",
    "        even_count = 0\n",
    "        for _, v in char_dict.items():\n",
    "            if v == 1:\n",
    "                one_count += 1\n",
    "            elif v % 2 == 0:\n",
    "                even_count += v\n",
    "            else:\n",
    "                return False\n",
    "        if one_count == 1 and even_count == (length - 1):\n",
    "            return True\n",
    "        else:\n",
    "            return False"
   ]
  },
  {
   "cell_type": "markdown",
   "metadata": {},
   "source": [
    "**time: O(n)<br>\n",
    "space: O(n)**"
   ]
  },
  {
   "cell_type": "code",
   "execution_count": 18,
   "metadata": {},
   "outputs": [],
   "source": [
    "test_cases = [('Tact Coa', True),\n",
    "              ('jhsabckuj ahjsbckj', True),\n",
    "              ('Able was I ere I saw Elba', True),\n",
    "              ('So patient a nurse to nurse a patient so', False),\n",
    "              ('Random Words', False),\n",
    "              ('Not a Palindrome', False),\n",
    "              ('no x in nixon', True),\n",
    "              ('azAZ', True)]"
   ]
  },
  {
   "cell_type": "code",
   "execution_count": 19,
   "metadata": {},
   "outputs": [
    {
     "name": "stdout",
     "output_type": "stream",
     "text": [
      "passed the tests.\n"
     ]
    }
   ],
   "source": [
    "for inp, ans in test_cases:\n",
    "    actual = is_palindrome_permutation(inp)\n",
    "    if actual != ans:\n",
    "        print(\"An error occurred for case '{}'\".format(inp))\n",
    "utils.print_success()"
   ]
  },
  {
   "cell_type": "code",
   "execution_count": 20,
   "metadata": {},
   "outputs": [
    {
     "name": "stdout",
     "output_type": "stream",
     "text": [
      "passed the tests.\n"
     ]
    }
   ],
   "source": [
    "utils.check_all_equal_cases(is_palindrome_permutation, test_cases)"
   ]
  },
  {
   "cell_type": "markdown",
   "metadata": {},
   "source": [
    "# 1.5 One Away"
   ]
  },
  {
   "cell_type": "code",
   "execution_count": 21,
   "metadata": {},
   "outputs": [],
   "source": [
    "def is_one_away(s1, s2):\n",
    "    if abs(len(s1) - len(s2)) > 1:\n",
    "        return False\n",
    "    \n",
    "    diff_count = 0\n",
    "    # check for insertion or removing case\n",
    "    if len(s1) != len(s2):\n",
    "        if len(s1) > len(s2):\n",
    "            longer = s1\n",
    "            shorter = s2\n",
    "        else:\n",
    "            longer = s2\n",
    "            shorter = s1\n",
    "        s1_dict = {}\n",
    "        for s in longer:\n",
    "            if not s in s1_dict:\n",
    "                s1_dict[s] = 1\n",
    "            else:\n",
    "                s1_dict[s] += 1\n",
    "\n",
    "        for s in shorter:\n",
    "            if s in s1_dict and s1_dict[s] > 0:\n",
    "                s1_dict[s] -= 1                \n",
    "        for _, v in s1_dict.items():\n",
    "            diff_count += v\n",
    "    # check for replacing case\n",
    "    else:\n",
    "        for i in range(len(s1)):\n",
    "            if s1[i] != s2[i]:\n",
    "                diff_count += 1\n",
    "        \n",
    "    if diff_count > 1:\n",
    "        return False\n",
    "    else:\n",
    "        return True"
   ]
  },
  {
   "cell_type": "markdown",
   "metadata": {},
   "source": [
    "**time: O(n)<br>\n",
    "space: O(n)**"
   ]
  },
  {
   "cell_type": "code",
   "execution_count": 22,
   "metadata": {},
   "outputs": [],
   "source": [
    "test_cases = [(('pale', 'ple'), True),\n",
    "              (('pales', 'pale'), True),\n",
    "              (('pale', 'bale'), True),\n",
    "              (('paleabc', 'pleabc'), True),\n",
    "              (('pale', 'ble'), False),\n",
    "              (('a', 'b'), True),\n",
    "              (('', 'd'), True),\n",
    "              (('d', 'de'), True),\n",
    "              (('pale', 'pale'), True),\n",
    "              (('pale', 'ple'), True),\n",
    "              (('ple', 'pale'), True),\n",
    "              (('pale', 'bale'), True),\n",
    "              (('pale', 'bake'), False),\n",
    "              (('pale', 'pse'), False),\n",
    "              (('ples', 'pales'), True),\n",
    "              (('pale', 'pas'), False),\n",
    "              (('pas', 'pale'), False),\n",
    "              (('pale', 'pkle'), True),\n",
    "              (('pkle', 'pable'), False),\n",
    "              (('pal', 'palks'), False),\n",
    "              (('palks', 'pal'), False)\n",
    "    ]"
   ]
  },
  {
   "cell_type": "code",
   "execution_count": 23,
   "metadata": {},
   "outputs": [
    {
     "name": "stdout",
     "output_type": "stream",
     "text": [
      "passed the tests.\n"
     ]
    }
   ],
   "source": [
    "for inp, ans in test_cases:\n",
    "    actual = is_one_away(*inp)\n",
    "    if actual != ans:\n",
    "        \"An error occurred for case {}\".format(inp[0])\n",
    "utils.print_success()"
   ]
  },
  {
   "cell_type": "code",
   "execution_count": 24,
   "metadata": {},
   "outputs": [
    {
     "name": "stdout",
     "output_type": "stream",
     "text": [
      "passed the tests.\n"
     ]
    }
   ],
   "source": [
    "utils.check_all_equal_cases(is_one_away, test_cases)"
   ]
  },
  {
   "cell_type": "markdown",
   "metadata": {},
   "source": [
    "# 1.6 String Compression"
   ]
  },
  {
   "cell_type": "code",
   "execution_count": 25,
   "metadata": {},
   "outputs": [],
   "source": [
    "def compress_string(string):\n",
    "    cont_count = 0\n",
    "    new_str = \"\"\n",
    "    prev_c = \"\"\n",
    "    for c in string:\n",
    "        if prev_c == \"\":\n",
    "            prev_c = c\n",
    "        else:\n",
    "            if prev_c == c:\n",
    "                cont_count += 1\n",
    "            else:\n",
    "                new_str += prev_c + str(cont_count+1)\n",
    "                prev_c = c\n",
    "                cont_count = 0\n",
    "    if cont_count > 0:\n",
    "        new_str += prev_c + str(cont_count+1)\n",
    "    \n",
    "    if len(new_str) < len(string):\n",
    "        return new_str\n",
    "    else:\n",
    "        return string"
   ]
  },
  {
   "cell_type": "code",
   "execution_count": 26,
   "metadata": {},
   "outputs": [],
   "source": [
    "test_cases = [('aabcccccaaa', 'a2b1c5a3'),\n",
    "              ('abcdef', 'abcdef')]"
   ]
  },
  {
   "cell_type": "code",
   "execution_count": 27,
   "metadata": {},
   "outputs": [
    {
     "name": "stdout",
     "output_type": "stream",
     "text": [
      "passed the tests.\n"
     ]
    }
   ],
   "source": [
    "utils.check_all_equal_cases(compress_string, test_cases)"
   ]
  },
  {
   "cell_type": "markdown",
   "metadata": {},
   "source": [
    "## Answer"
   ]
  },
  {
   "cell_type": "code",
   "execution_count": 28,
   "metadata": {},
   "outputs": [],
   "source": [
    "def compress_string_ans(string):\n",
    "    \n",
    "    def append_new_str(li, c, count):\n",
    "        li.append(c)\n",
    "        li.append(str(count+1))\n",
    "        return li\n",
    "            \n",
    "    cont_count = 0\n",
    "    new_str = []\n",
    "    prev_c = \"\"\n",
    "    for c in string:\n",
    "        if prev_c == \"\":\n",
    "            prev_c = c\n",
    "        else:\n",
    "            if prev_c == c:\n",
    "                cont_count += 1\n",
    "            else:\n",
    "                new_str = append_new_str(new_str, prev_c, cont_count)\n",
    "                prev_c = c\n",
    "                cont_count = 0\n",
    "    if cont_count > 0:\n",
    "        new_str = append_new_str(new_str, prev_c, cont_count)\n",
    "    new_str = \"\".join(new_str)\n",
    "    \n",
    "    if len(new_str) < len(string):\n",
    "        return new_str\n",
    "    else:\n",
    "        return string"
   ]
  },
  {
   "cell_type": "markdown",
   "metadata": {},
   "source": [
    "**time: O(n)<br>**"
   ]
  },
  {
   "cell_type": "code",
   "execution_count": 29,
   "metadata": {},
   "outputs": [
    {
     "name": "stdout",
     "output_type": "stream",
     "text": [
      "passed the tests.\n"
     ]
    }
   ],
   "source": [
    "utils.check_all_equal_cases(compress_string_ans, test_cases)"
   ]
  },
  {
   "cell_type": "markdown",
   "metadata": {},
   "source": [
    "# 1.7 Rotate Matrix"
   ]
  },
  {
   "cell_type": "markdown",
   "metadata": {},
   "source": [
    "## Answer"
   ]
  },
  {
   "cell_type": "code",
   "execution_count": 30,
   "metadata": {},
   "outputs": [],
   "source": [
    "def rotate_matrix_ans(matrix):\n",
    "    n = len(matrix)\n",
    "    if n == 0 or len(matrix) != len(matrix[0]):\n",
    "        return False\n",
    "    for layer in range(n//2):\n",
    "        first = layer\n",
    "        last = n - 1 - layer\n",
    "        for i in range(first, last):\n",
    "            offset = i - first\n",
    "            # save top\n",
    "            top = matrix[first][i]\n",
    "            # left -> top\n",
    "            matrix[first][i] = matrix[last-offset][first]\n",
    "            # bottom -> left\n",
    "            matrix[last-offset][first] = matrix[last][last-offset]\n",
    "            # right -> bottom\n",
    "            matrix[last][last - offset] = matrix[i][last]\n",
    "            # (saved) top -> right\n",
    "            matrix[i][last] = top\n",
    "            \n",
    "    return matrix"
   ]
  },
  {
   "cell_type": "markdown",
   "metadata": {},
   "source": [
    "**time: O(n)<br>**"
   ]
  },
  {
   "cell_type": "code",
   "execution_count": 31,
   "metadata": {},
   "outputs": [],
   "source": [
    "test_cases =[([[1, 2, 3, 4, 5],\n",
    "               [6, 7, 8, 9, 10],\n",
    "               [11, 12, 13, 14, 15],\n",
    "               [16, 17, 18, 19, 20],\n",
    "               [21, 22, 23, 24, 25]], \n",
    "              [[21, 16, 11, 6, 1],\n",
    "               [22, 17, 12, 7, 2],\n",
    "               [23, 18, 13, 8, 3],\n",
    "               [24, 19, 14, 9, 4],\n",
    "               [25, 20, 15, 10, 5]])]"
   ]
  },
  {
   "cell_type": "code",
   "execution_count": 32,
   "metadata": {},
   "outputs": [
    {
     "name": "stdout",
     "output_type": "stream",
     "text": [
      "passed the tests.\n"
     ]
    }
   ],
   "source": [
    "utils.check_all_equal_cases(rotate_matrix_ans, test_cases)"
   ]
  },
  {
   "cell_type": "markdown",
   "metadata": {},
   "source": [
    "# 1.8 Zero Matrix"
   ]
  },
  {
   "cell_type": "code",
   "execution_count": 33,
   "metadata": {},
   "outputs": [],
   "source": [
    "def return_zero_matrix(matrix):\n",
    "    num_rows = len(matrix)\n",
    "    num_cols = len(matrix[0])\n",
    "    row_zeros = [False for i in range(num_rows)]\n",
    "    col_zeros = [False for i in range(num_cols)]\n",
    "    \n",
    "    for i in range(num_rows):\n",
    "        for j in range(num_cols):\n",
    "            if matrix[i][j] == 0:\n",
    "                row_zeros[i] = True\n",
    "                col_zeros[j] = True\n",
    "                \n",
    "    def nullify_row(matrix, i):\n",
    "        for j in range(num_cols):\n",
    "            matrix[i][j] = 0\n",
    "\n",
    "    def nullify_col(matrix, j):\n",
    "        for i in range(num_rows):\n",
    "            matrix[i][j] = 0\n",
    "            \n",
    "    # Nullify rows\n",
    "    for i in range(num_rows):\n",
    "        if row_zeros[i]: nullify_row(matrix, i)\n",
    "    # nullify cols\n",
    "    for j in range(num_cols):\n",
    "        if col_zeros[j]: nullify_col(matrix, j)\n",
    "            \n",
    "    return matrix"
   ]
  },
  {
   "cell_type": "markdown",
   "metadata": {},
   "source": [
    "**time: O(mn)<br>\n",
    "   space: O(n)**"
   ]
  },
  {
   "cell_type": "code",
   "execution_count": 34,
   "metadata": {},
   "outputs": [],
   "source": [
    "test_cases =[([[1, 2, 3, 4, 0],\n",
    "               [6, 0, 8, 9, 10],\n",
    "               [11, 12, 13, 14, 15],\n",
    "               [16, 0, 18, 19, 20],\n",
    "               [21, 22, 23, 24, 25]], \n",
    "              [[0, 0, 0, 0, 0],\n",
    "               [0, 0, 0, 0, 0],\n",
    "               [11, 0, 13, 14, 0],\n",
    "               [0, 0, 0, 0, 0],\n",
    "               [21, 0, 23, 24, 0]])]"
   ]
  },
  {
   "cell_type": "code",
   "execution_count": 35,
   "metadata": {},
   "outputs": [
    {
     "name": "stdout",
     "output_type": "stream",
     "text": [
      "passed the tests.\n"
     ]
    }
   ],
   "source": [
    "utils.check_all_equal_cases(return_zero_matrix, test_cases)"
   ]
  },
  {
   "cell_type": "markdown",
   "metadata": {},
   "source": [
    "## Better Solution"
   ]
  },
  {
   "cell_type": "code",
   "execution_count": 36,
   "metadata": {},
   "outputs": [],
   "source": [
    "def return_zero_matrix(matrix):\n",
    "    num_rows = len(matrix)\n",
    "    num_cols = len(matrix[0])\n",
    "    row_has_zero = False\n",
    "    col_has_zero = False\n",
    "    0\n",
    "    # check if first row has a zero\n",
    "    for j in range(num_cols):\n",
    "        if matrix[0][j] == 0:\n",
    "            row_has_zero = True\n",
    "            break\n",
    "    # check if first col has a zero\n",
    "    for i in range(num_rows):\n",
    "        if matrix[i][0] == 0:\n",
    "            col_has_zero = True\n",
    "            break\n",
    "            \n",
    "    for i in range(num_rows):\n",
    "        for j in range(num_cols):\n",
    "            if matrix[i][j] == 0:\n",
    "                matrix[i][0] = 0\n",
    "                matrix[0][j] = 0\n",
    "                \n",
    "    def nullify_row(matrix, i):\n",
    "        for j in range(num_cols):\n",
    "            matrix[i][j] = 0\n",
    "            \n",
    "    def nullify_col(matrix, j):\n",
    "        for i in range(num_rows):\n",
    "            matrix[i][j] = 0\n",
    "            \n",
    "    for i in range(1, num_rows):\n",
    "        if matrix[i][0] == 0: nullify_row(matrix, i)    \n",
    "    for j in range(1, num_cols):\n",
    "        if matrix[0][j] == 0: nullify_col(matrix, j)\n",
    "            \n",
    "    if row_has_zero: nullify_row(matrix, 0)\n",
    "    if col_has_zero: nullify_col(matrix, 0)\n",
    "        \n",
    "    return matrix"
   ]
  },
  {
   "cell_type": "markdown",
   "metadata": {},
   "source": [
    "**time: O(mn)<br>\n",
    "   space: O(1)**"
   ]
  },
  {
   "cell_type": "code",
   "execution_count": 37,
   "metadata": {},
   "outputs": [
    {
     "name": "stdout",
     "output_type": "stream",
     "text": [
      "passed the tests.\n"
     ]
    }
   ],
   "source": [
    "utils.check_all_equal_cases(return_zero_matrix, test_cases)"
   ]
  },
  {
   "cell_type": "markdown",
   "metadata": {},
   "source": [
    "# 1.9 String Rotation"
   ]
  },
  {
   "cell_type": "code",
   "execution_count": 38,
   "metadata": {},
   "outputs": [],
   "source": [
    "def is_substring(s1, s2):\n",
    "    if len(s1) != len(s2):\n",
    "        return False\n",
    "    start_l_list = []\n",
    "    for i in range(len(s2)):\n",
    "        if s1[0] == s2[i]:\n",
    "            start_l_list.append(i)\n",
    "            \n",
    "    if len(start_l_list) == 0:\n",
    "        return False\n",
    "    \n",
    "    for i in start_l_list:\n",
    "        if s1[0] == s2[i]:\n",
    "            if s1 == s2[i:] + s2[:i]:\n",
    "                return True\n",
    "    \n",
    "    return False"
   ]
  },
  {
   "cell_type": "markdown",
   "metadata": {},
   "source": [
    "**time: O(n)<br>\n",
    "   space: O(n)**"
   ]
  },
  {
   "cell_type": "code",
   "execution_count": 39,
   "metadata": {},
   "outputs": [],
   "source": [
    "true_cases = [('waterbottle', 'erbottlewat'),\n",
    "              ('ant', 'nta')]\n",
    "false_cases = [('foo', 'bar'),\n",
    "               ('foo', 'foofoo')]"
   ]
  },
  {
   "cell_type": "code",
   "execution_count": 40,
   "metadata": {},
   "outputs": [
    {
     "name": "stdout",
     "output_type": "stream",
     "text": [
      "passed the tests.\n"
     ]
    }
   ],
   "source": [
    "utils.check_all_true_cases(is_substring, true_cases)"
   ]
  },
  {
   "cell_type": "code",
   "execution_count": 41,
   "metadata": {},
   "outputs": [
    {
     "name": "stdout",
     "output_type": "stream",
     "text": [
      "passed the tests.\n"
     ]
    }
   ],
   "source": [
    "utils.check_all_false_cases(is_substring, false_cases)"
   ]
  }
 ],
 "metadata": {
  "kernelspec": {
   "display_name": "Python 3",
   "language": "python",
   "name": "python3"
  },
  "language_info": {
   "codemirror_mode": {
    "name": "ipython",
    "version": 3
   },
   "file_extension": ".py",
   "mimetype": "text/x-python",
   "name": "python",
   "nbconvert_exporter": "python",
   "pygments_lexer": "ipython3",
   "version": "3.7.6"
  }
 },
 "nbformat": 4,
 "nbformat_minor": 4
}
