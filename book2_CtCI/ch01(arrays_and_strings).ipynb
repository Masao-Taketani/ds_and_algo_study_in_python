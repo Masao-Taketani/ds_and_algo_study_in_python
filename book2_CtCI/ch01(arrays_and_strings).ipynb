{
 "cells": [
  {
   "cell_type": "code",
   "execution_count": 1,
   "metadata": {},
   "outputs": [],
   "source": [
    "import utils"
   ]
  },
  {
   "cell_type": "markdown",
   "metadata": {},
   "source": [
    "# 1.1 Is Unique"
   ]
  },
  {
   "cell_type": "code",
   "execution_count": 2,
   "metadata": {},
   "outputs": [],
   "source": [
    "def is_unique(string):\n",
    "    char_dict = {}\n",
    "    \n",
    "    for s in string:\n",
    "        if s in char_dict:\n",
    "            return False\n",
    "        else:\n",
    "            char_dict[s] = 1\n",
    "    \n",
    "    return True"
   ]
  },
  {
   "cell_type": "markdown",
   "metadata": {},
   "source": [
    "**time: O(n)<br>\n",
    "space: O(n)**"
   ]
  },
  {
   "cell_type": "code",
   "execution_count": 3,
   "metadata": {},
   "outputs": [],
   "source": [
    "true_cases = [\"\", \"1q./\", \"fotg\"]\n",
    "false_cases = [\"ii\", \"fopbola329\", \"4igj54\"]"
   ]
  },
  {
   "cell_type": "code",
   "execution_count": 4,
   "metadata": {},
   "outputs": [
    {
     "name": "stdout",
     "output_type": "stream",
     "text": [
      "passed the tests.\n",
      "passed the tests.\n"
     ]
    }
   ],
   "source": [
    "utils.check_all_true_cases(is_unique, true_cases)\n",
    "utils.check_all_false_cases(is_unique, false_cases)"
   ]
  },
  {
   "cell_type": "markdown",
   "metadata": {},
   "source": [
    "# Answer"
   ]
  },
  {
   "cell_type": "markdown",
   "metadata": {},
   "source": [
    "**time: O(n)<br>\n",
    "space: O(1)**"
   ]
  },
  {
   "cell_type": "code",
   "execution_count": 5,
   "metadata": {},
   "outputs": [],
   "source": [
    "def is_unique_ans(string):\n",
    "    # if we assume ASCII string is only used\n",
    "    char_set = [False for _ in range(128)]\n",
    "    \n",
    "    for s in string:\n",
    "        \"\"\"\n",
    "        ord(): \n",
    "        Given a string representing one Unicode character, \n",
    "        return an integer representing the Unicode code point \n",
    "        of that character.\n",
    "        \"\"\"\n",
    "        asc_int = ord(s)\n",
    "        if char_set[asc_int]:\n",
    "            return False\n",
    "        char_set[asc_int] = True\n",
    "    \n",
    "    return True"
   ]
  },
  {
   "cell_type": "code",
   "execution_count": 6,
   "metadata": {},
   "outputs": [
    {
     "name": "stdout",
     "output_type": "stream",
     "text": [
      "passed the tests.\n",
      "passed the tests.\n"
     ]
    }
   ],
   "source": [
    "utils.check_all_true_cases(is_unique_ans, true_cases)\n",
    "utils.check_all_false_cases(is_unique_ans, false_cases)"
   ]
  },
  {
   "cell_type": "markdown",
   "metadata": {},
   "source": [
    "# 1.2 Check Permutation"
   ]
  },
  {
   "cell_type": "code",
   "execution_count": 7,
   "metadata": {},
   "outputs": [],
   "source": [
    "def check_permutation(s1, s2):\n",
    "    s_dict = {}\n",
    "    \n",
    "    if len(s1) != len(s2):\n",
    "        return False\n",
    "    \n",
    "    for s in s1:\n",
    "        if not s in s_dict:\n",
    "            s_dict[s] = 1\n",
    "        else:\n",
    "            s_dict[s] += 1\n",
    "    \n",
    "    for s in s2:\n",
    "        if not s in s_dict:\n",
    "            return False\n",
    "        elif s_dict[s] == 0:\n",
    "            return False\n",
    "        s_dict[s] -= 1\n",
    "        \n",
    "    return True"
   ]
  },
  {
   "cell_type": "markdown",
   "metadata": {},
   "source": [
    "**time: O(n)<br>\n",
    "space: O(n)**"
   ]
  },
  {
   "cell_type": "code",
   "execution_count": 8,
   "metadata": {},
   "outputs": [],
   "source": [
    "true_cases = [(\"abc\", \"bca\"), (\"14zw5\", \"z541w\"), (\"a\", \"a\")]\n",
    "false_cases = [(\"ajifnc\", \"a\"), (\"abc\", \"acc\"), (\"z245497ffj\", \"z245497ffz\")]"
   ]
  },
  {
   "cell_type": "code",
   "execution_count": 9,
   "metadata": {},
   "outputs": [
    {
     "name": "stdout",
     "output_type": "stream",
     "text": [
      "passed the tests.\n",
      "passed the tests.\n"
     ]
    }
   ],
   "source": [
    "utils.check_all_true_cases(check_permutation, true_cases)\n",
    "utils.check_all_false_cases(check_permutation, false_cases)"
   ]
  },
  {
   "cell_type": "markdown",
   "metadata": {},
   "source": [
    "# 1.3 URLify"
   ]
  },
  {
   "cell_type": "code",
   "execution_count": null,
   "metadata": {},
   "outputs": [],
   "source": []
  }
 ],
 "metadata": {
  "kernelspec": {
   "display_name": "Python 3",
   "language": "python",
   "name": "python3"
  },
  "language_info": {
   "codemirror_mode": {
    "name": "ipython",
    "version": 3
   },
   "file_extension": ".py",
   "mimetype": "text/x-python",
   "name": "python",
   "nbconvert_exporter": "python",
   "pygments_lexer": "ipython3",
   "version": "3.7.6"
  }
 },
 "nbformat": 4,
 "nbformat_minor": 4
}
