{
 "cells": [
  {
   "cell_type": "code",
   "execution_count": 10,
   "metadata": {},
   "outputs": [],
   "source": [
    "import utils"
   ]
  },
  {
   "cell_type": "code",
   "execution_count": 2,
   "metadata": {},
   "outputs": [],
   "source": [
    "import math\n",
    "\n",
    "def func(num):\n",
    "    def factorial(n):\n",
    "        if n == 1:\n",
    "            return 1\n",
    "        return n * factorial(n-1)\n",
    "    \n",
    "    fact_num = factorial(num)\n",
    "    degits = int(math.log10(fact_num)) + 1\n",
    "    num_zeros = 0\n",
    "    for i in reversed(str(fact_num)):\n",
    "        if i == \"0\":\n",
    "            num_zeros += 1\n",
    "        else:\n",
    "            break\n",
    "    \n",
    "    return str(degits) + \" \" + str(num_zeros)"
   ]
  },
  {
   "cell_type": "code",
   "execution_count": 12,
   "metadata": {},
   "outputs": [],
   "source": [
    "test_cases = [(0, \"1 0\"),\n",
    "              (1, \"1 0\"),\n",
    "              (2, \"1 0\"),\n",
    "              (5, \"3 1\"),\n",
    "              (10, \"7 2\"),\n",
    "              (20, \"19 4\"),\n",
    "              (50, \"65 12\"),\n",
    "              (9959677, \"65374834 2489916\")]"
   ]
  },
  {
   "cell_type": "code",
   "execution_count": null,
   "metadata": {},
   "outputs": [],
   "source": [
    "utils.check_all_equal_cases(func, test_cases)"
   ]
  },
  {
   "cell_type": "code",
   "execution_count": 4,
   "metadata": {},
   "outputs": [],
   "source": [
    "import sys\n",
    "sys.setrecursionlimit(10**7)"
   ]
  },
  {
   "cell_type": "code",
   "execution_count": null,
   "metadata": {},
   "outputs": [],
   "source": [
    "func(9959677)"
   ]
  },
  {
   "cell_type": "code",
   "execution_count": null,
   "metadata": {},
   "outputs": [],
   "source": []
  }
 ],
 "metadata": {
  "kernelspec": {
   "display_name": "Python 3",
   "language": "python",
   "name": "python3"
  },
  "language_info": {
   "codemirror_mode": {
    "name": "ipython",
    "version": 3
   },
   "file_extension": ".py",
   "mimetype": "text/x-python",
   "name": "python",
   "nbconvert_exporter": "python",
   "pygments_lexer": "ipython3",
   "version": "3.7.6"
  }
 },
 "nbformat": 4,
 "nbformat_minor": 4
}
